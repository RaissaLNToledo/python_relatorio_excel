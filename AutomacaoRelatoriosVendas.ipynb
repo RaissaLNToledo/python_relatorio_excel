{
 "cells": [
  {
   "cell_type": "markdown",
   "id": "115a0a97-c61a-497f-8f6e-381cb76bb841",
   "metadata": {},
   "source": [
    "\"Preciso de um script em Python que leia uma planilha de vendas e gere um relatório consolidado.\n",
    "A planilha tem as colunas:\n",
    "\n",
    "Data | Produto | Vendedor | Quantidade | Valor \n",
    "\n",
    "_Considere a coluna Valor como Valor Total da venda_\n",
    "\n",
    "O relatório final deve conter:\n",
    "- Faturamento total\n",
    "- Vendas por produto (quantidade e valor)\n",
    "- Ranking de vendedores (do maior para o menor em valor vendido)\n",
    "\n",
    "Uma planilha Excel com o relatório dividido em abas\"\n",
    "\n",
    "Entrega esperada:\n",
    "- Código em Python bem organizado\n",
    "- Arquivo Excel de saída com pelo menos 3 abas:\n",
    "- Resumo geral\n",
    "- Resumo por produto\n",
    "- Ranking de vendedores\n",
    "- Um pequeno README explicando como rodar"
   ]
  },
  {
   "cell_type": "code",
   "execution_count": 1,
   "id": "aa54e347-9ccd-4bb0-bb88-98ac3783da35",
   "metadata": {},
   "outputs": [],
   "source": [
    "import pandas as pd\n",
    "import xlsxwriter as xlsx"
   ]
  },
  {
   "cell_type": "code",
   "execution_count": 2,
   "id": "933c52f9-2b64-42bb-9991-c8f272aef45b",
   "metadata": {},
   "outputs": [
    {
     "data": {
      "text/html": [
       "<div>\n",
       "<style scoped>\n",
       "    .dataframe tbody tr th:only-of-type {\n",
       "        vertical-align: middle;\n",
       "    }\n",
       "\n",
       "    .dataframe tbody tr th {\n",
       "        vertical-align: top;\n",
       "    }\n",
       "\n",
       "    .dataframe thead th {\n",
       "        text-align: right;\n",
       "    }\n",
       "</style>\n",
       "<table border=\"1\" class=\"dataframe\">\n",
       "  <thead>\n",
       "    <tr style=\"text-align: right;\">\n",
       "      <th></th>\n",
       "      <th>Data</th>\n",
       "      <th>Produto</th>\n",
       "      <th>Vendedor</th>\n",
       "      <th>Quantidade</th>\n",
       "      <th>Valor</th>\n",
       "    </tr>\n",
       "  </thead>\n",
       "  <tbody>\n",
       "    <tr>\n",
       "      <th>0</th>\n",
       "      <td>2025-08-28</td>\n",
       "      <td>Colar Artesanal</td>\n",
       "      <td>João</td>\n",
       "      <td>5</td>\n",
       "      <td>355</td>\n",
       "    </tr>\n",
       "    <tr>\n",
       "      <th>1</th>\n",
       "      <td>2025-09-07</td>\n",
       "      <td>Difusor</td>\n",
       "      <td>Ana</td>\n",
       "      <td>2</td>\n",
       "      <td>170</td>\n",
       "    </tr>\n",
       "    <tr>\n",
       "      <th>2</th>\n",
       "      <td>2025-09-11</td>\n",
       "      <td>Colar Artesanal</td>\n",
       "      <td>Beatriz</td>\n",
       "      <td>4</td>\n",
       "      <td>128</td>\n",
       "    </tr>\n",
       "    <tr>\n",
       "      <th>3</th>\n",
       "      <td>2025-09-07</td>\n",
       "      <td>Suporte de Macramê</td>\n",
       "      <td>Ana</td>\n",
       "      <td>4</td>\n",
       "      <td>200</td>\n",
       "    </tr>\n",
       "    <tr>\n",
       "      <th>4</th>\n",
       "      <td>2025-09-01</td>\n",
       "      <td>Vela Aromática</td>\n",
       "      <td>Beatriz</td>\n",
       "      <td>1</td>\n",
       "      <td>80</td>\n",
       "    </tr>\n",
       "  </tbody>\n",
       "</table>\n",
       "</div>"
      ],
      "text/plain": [
       "        Data             Produto Vendedor  Quantidade  Valor\n",
       "0 2025-08-28     Colar Artesanal     João           5    355\n",
       "1 2025-09-07             Difusor      Ana           2    170\n",
       "2 2025-09-11     Colar Artesanal  Beatriz           4    128\n",
       "3 2025-09-07  Suporte de Macramê      Ana           4    200\n",
       "4 2025-09-01      Vela Aromática  Beatriz           1     80"
      ]
     },
     "execution_count": 2,
     "metadata": {},
     "output_type": "execute_result"
    }
   ],
   "source": [
    "#Leitura do excel\n",
    "df = pd.read_excel(\"vendas.xlsx\", engine= \"openpyxl\")\n",
    "df.head()"
   ]
  },
  {
   "cell_type": "code",
   "execution_count": 3,
   "id": "150cce0e-ff36-407a-a47e-218b5db8d725",
   "metadata": {},
   "outputs": [
    {
     "name": "stdout",
     "output_type": "stream",
     "text": [
      "Data          datetime64[ns]\n",
      "Produto               object\n",
      "Vendedor              object\n",
      "Quantidade             int64\n",
      "Valor                  int64\n",
      "dtype: object\n"
     ]
    }
   ],
   "source": [
    "#Validacoes iniciais\n",
    "colunas_necessarias = [\"Data\", \"Produto\", \"Vendedor\", \"Quantidade\", \"Valor\"]\n",
    "for col in colunas_necessarias:\n",
    "    if col not in df.columns:\n",
    "        print(f\"Atenção! Coluna {col} não encontrada\")\n",
    "\n",
    "df[\"Data\"] = pd.to_datetime(df[\"Data\"], errors=\"coerce\")\n",
    "df[\"Quantidade\"] = pd.to_numeric(df[\"Quantidade\"], errors=\"coerce\")\n",
    "df[\"Valor\"] = pd.to_numeric(df[\"Valor\"], errors=\"coerce\")\n",
    "\n",
    "print(df.dtypes)"
   ]
  },
  {
   "cell_type": "code",
   "execution_count": 4,
   "id": "538d8ecb-523b-44f0-a6a7-9953090d656e",
   "metadata": {},
   "outputs": [],
   "source": [
    "#KPIs de resumo\n",
    "faturamento_total = df[\"Valor\"].sum()\n",
    "quantidade_total = df[\"Quantidade\"].sum()\n",
    "ticket_medio = faturamento_total/quantidade_total\n",
    "\n",
    "produtos_vendidos = df[\"Produto\"].nunique()\n",
    "vendedores = df[\"Vendedor\"].nunique()"
   ]
  },
  {
   "cell_type": "code",
   "execution_count": 5,
   "id": "e03f14b5-081c-47a9-b110-85106445a379",
   "metadata": {},
   "outputs": [
    {
     "data": {
      "text/html": [
       "<div>\n",
       "<style scoped>\n",
       "    .dataframe tbody tr th:only-of-type {\n",
       "        vertical-align: middle;\n",
       "    }\n",
       "\n",
       "    .dataframe tbody tr th {\n",
       "        vertical-align: top;\n",
       "    }\n",
       "\n",
       "    .dataframe thead th {\n",
       "        text-align: right;\n",
       "    }\n",
       "</style>\n",
       "<table border=\"1\" class=\"dataframe\">\n",
       "  <thead>\n",
       "    <tr style=\"text-align: right;\">\n",
       "      <th></th>\n",
       "      <th>Quantidade</th>\n",
       "      <th>Valor</th>\n",
       "      <th>PrecoMedio</th>\n",
       "    </tr>\n",
       "    <tr>\n",
       "      <th>Produto</th>\n",
       "      <th></th>\n",
       "      <th></th>\n",
       "      <th></th>\n",
       "    </tr>\n",
       "  </thead>\n",
       "  <tbody>\n",
       "    <tr>\n",
       "      <th>Colar Artesanal</th>\n",
       "      <td>61</td>\n",
       "      <td>4098</td>\n",
       "      <td>67.180328</td>\n",
       "    </tr>\n",
       "    <tr>\n",
       "      <th>Copo de Cimento</th>\n",
       "      <td>44</td>\n",
       "      <td>3067</td>\n",
       "      <td>69.704545</td>\n",
       "    </tr>\n",
       "    <tr>\n",
       "      <th>Difusor</th>\n",
       "      <td>63</td>\n",
       "      <td>4916</td>\n",
       "      <td>78.031746</td>\n",
       "    </tr>\n",
       "    <tr>\n",
       "      <th>Suporte de Macramê</th>\n",
       "      <td>69</td>\n",
       "      <td>4561</td>\n",
       "      <td>66.101449</td>\n",
       "    </tr>\n",
       "    <tr>\n",
       "      <th>Vela Aromática</th>\n",
       "      <td>66</td>\n",
       "      <td>4812</td>\n",
       "      <td>72.909091</td>\n",
       "    </tr>\n",
       "  </tbody>\n",
       "</table>\n",
       "</div>"
      ],
      "text/plain": [
       "                    Quantidade  Valor  PrecoMedio\n",
       "Produto                                          \n",
       "Colar Artesanal             61   4098   67.180328\n",
       "Copo de Cimento             44   3067   69.704545\n",
       "Difusor                     63   4916   78.031746\n",
       "Suporte de Macramê          69   4561   66.101449\n",
       "Vela Aromática              66   4812   72.909091"
      ]
     },
     "execution_count": 5,
     "metadata": {},
     "output_type": "execute_result"
    }
   ],
   "source": [
    "#Resumo por produto\n",
    "df_por_produto = df.groupby(\"Produto\").agg({\n",
    "    \"Quantidade\":\"sum\",\n",
    "    \"Valor\":\"sum\"})\n",
    "df_por_produto[\"PrecoMedio\"] = df_por_produto[\"Valor\"]/df_por_produto[\"Quantidade\"]\n",
    "df_por_produto.head()"
   ]
  },
  {
   "cell_type": "code",
   "execution_count": 6,
   "id": "210d4301-228a-4b8b-a0c0-6114781a7a07",
   "metadata": {},
   "outputs": [
    {
     "name": "stdout",
     "output_type": "stream",
     "text": [
      "          Quantidade  Valor  Ranking\n",
      "Vendedor                            \n",
      "Carlos            80   5477        1\n",
      "João              64   5124        2\n",
      "Ana               60   3915        3\n",
      "Beatriz           51   3655        4\n",
      "Marcos            48   3283        5\n"
     ]
    }
   ],
   "source": [
    "#Resumo por vendedor\n",
    "df_por_vendedor = df.groupby(\"Vendedor\").agg({\n",
    "    \"Quantidade\":\"sum\",\n",
    "    \"Valor\":\"sum\"})\n",
    "df_por_vendedor = df_por_vendedor.sort_values(\"Valor\", ascending=False)\n",
    "df_por_vendedor[\"Ranking\"] = range(1, len(df_por_vendedor) +1)\n",
    "print(df_por_vendedor)"
   ]
  },
  {
   "cell_type": "code",
   "execution_count": 7,
   "id": "c7a64c04-329b-4d93-8b49-effcb9d29993",
   "metadata": {},
   "outputs": [],
   "source": [
    "#KPIs do resumo em um dataframe\n",
    "resumo_geral = pd.DataFrame({\n",
    "    \"Métrica\":[\"Faturamento Total\", \"Quantidade Total\", \"Ticket Médio\", \"Número de Produtos\", \"Número de Vendedores\"],\n",
    "    \"Valor\":[faturamento_total, quantidade_total, ticket_medio, produtos_vendidos, vendedores]\n",
    "})"
   ]
  },
  {
   "cell_type": "code",
   "execution_count": 10,
   "id": "700375fb-fa58-4c85-81e5-4a1313b20c3c",
   "metadata": {},
   "outputs": [],
   "source": [
    "#Escrevendo o excel\n",
    "with pd.ExcelWriter(\"relatorio_vendas.xlsx\", engine=\"xlsxwriter\") as writer:\n",
    "    resumo_geral.to_excel(writer, sheet_name=\"Resumo_Geral\", index=False)\n",
    "    df_por_produto.to_excel(writer, sheet_name=\"Resumo_Produto\", index=False)\n",
    "    df_por_vendedor.to_excel(writer, sheet_name=\"Ranking_Vendedores\", index=False)\n",
    "\n",
    "    #Formatacao excel\n",
    "    workbook = writer.book\n",
    "    worksheet = writer.sheets[\"Resumo_Geral\"]\n",
    "    formato_moeda = workbook.add_format({'num_format':'R$ #,##0.00'})\n",
    "    formato_inteiro = workbook.add_format({'num_format':'0'})\n",
    "    \n",
    "    for row, valor in enumerate(resumo_geral[\"Valor\"]):\n",
    "        if row in [0,2]:\n",
    "            worksheet.write(row+1, 1, valor, formato_moeda)\n",
    "        else:\n",
    "            worksheet.write(row+1, 1, valor, formato_inteiro)\n",
    "    \n",
    "    worksheet = writer.sheets[\"Resumo_Produto\"]\n",
    "    worksheet.set_column('C:C', 15, formato_moeda)\n",
    "    worksheet.set_column('D:D', 15, formato_moeda)\n",
    "    \n",
    "    worksheet = writer.sheets[\"Ranking_Vendedores\"]\n",
    "    worksheet.set_column('C:C', 15, formato_moeda)"
   ]
  }
 ],
 "metadata": {
  "kernelspec": {
   "display_name": "Python 3 (ipykernel)",
   "language": "python",
   "name": "python3"
  },
  "language_info": {
   "codemirror_mode": {
    "name": "ipython",
    "version": 3
   },
   "file_extension": ".py",
   "mimetype": "text/x-python",
   "name": "python",
   "nbconvert_exporter": "python",
   "pygments_lexer": "ipython3",
   "version": "3.13.2"
  }
 },
 "nbformat": 4,
 "nbformat_minor": 5
}
